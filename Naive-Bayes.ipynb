{
 "cells": [
  {
   "cell_type": "code",
   "execution_count": 1,
   "metadata": {},
   "outputs": [],
   "source": [
    "import numpy as np\n",
    "import timeit\n",
    "import docx\n",
    "import csv\n",
    "import re\n",
    "import string\n",
    "from pattern.text.en import lemma\n",
    "from nltk.corpus import stopwords\n",
    "from sklearn.feature_extraction.text import TfidfVectorizer\n",
    "from sklearn import model_selection, naive_bayes, svm\n",
    "from sklearn.metrics import accuracy_score\n",
    "from sklearn.preprocessing import LabelEncoder\n",
    "labels = []"
   ]
  },
  {
   "cell_type": "code",
   "execution_count": 2,
   "metadata": {},
   "outputs": [],
   "source": [
    "from keras.models import Sequential\n",
    "from keras.layers import Dense\n",
    "from keras.layers import LSTM\n",
    "from keras.layers.embeddings import Embedding\n",
    "from keras.preprocessing.sequence import pad_sequences\n",
    "from keras.preprocessing.text import Tokenizer"
   ]
  },
  {
   "cell_type": "code",
   "execution_count": 3,
   "metadata": {},
   "outputs": [],
   "source": [
    "def TextPreprocessing():\n",
    "    # labels = []\n",
    "    Data = []\n",
    "    with open('olid-training-v1.tsv', 'r', encoding='utf-8') as text:\n",
    "        reader = csv.reader(text, delimiter='\\t')\n",
    "        global labels\n",
    "        labels = reader.__next__()\n",
    "        for value in reader:\n",
    "            Data.append(value)\n",
    "    return Data"
   ]
  },
  {
   "cell_type": "code",
   "execution_count": 4,
   "metadata": {},
   "outputs": [],
   "source": [
    "def Stop(Data):\n",
    "    # removing stop words\n",
    "    NoStopData = []\n",
    "    stop = stopwords.words('english')\n",
    "    for i in range(0, len(Data)):\n",
    "        temp = []\n",
    "        for word in Data[i][1].split(\" \"):\n",
    "            if word not in stop:\n",
    "                temp.append(word.lower())\n",
    "\n",
    "        NoStopData.append(temp)\n",
    "    return NoStopData"
   ]
  },
  {
   "cell_type": "code",
   "execution_count": 5,
   "metadata": {},
   "outputs": [],
   "source": [
    "def Emojis(NoStopData):\n",
    "    # removing emojis\n",
    "    NoEmoStopData = []\n",
    "    pattern = re.compile(\"[\"\n",
    "                         u\"\\U0001F600-\\U0001F64F\"\n",
    "                         u\"\\U0001F300-\\U0001F5FF\"\n",
    "                         u\"\\U0001F680-\\U0001F6FF\"\n",
    "                         u\"\\U0001F1E0-\\U0001F1FF\"\n",
    "                         u\"\\U00002702-\\U000027B0\"\n",
    "                         u\"\\U000024C2-\\U0001F251\"\n",
    "                         u\"\\U0001f926-\\U0001f937\"\n",
    "                         u\"\\U00010000-\\U0010ffff\"\n",
    "                         u\"\\u2640-\\u2642\"\n",
    "                         u\"\\u2600-\\u2B55\"\n",
    "                         u\"\\u200d\"\n",
    "                         u\"\\u23cf\"\n",
    "                         u\"\\u23e9\"\n",
    "                         u\"\\u231a\"\n",
    "                         u\"\\ufe0f\"\n",
    "                         u\"\\u3030\"\n",
    "                         \"]+\", flags=re.UNICODE)\n",
    "\n",
    "    for i in range(0, len(NoStopData)):\n",
    "        temp = []\n",
    "        for word in NoStopData[i]:\n",
    "            temp.append(pattern.sub(r'', word))\n",
    "        NoEmoStopData.append(temp)\n",
    "    return NoEmoStopData"
   ]
  },
  {
   "cell_type": "code",
   "execution_count": 6,
   "metadata": {},
   "outputs": [],
   "source": [
    "def ETC(NoEmoStopData):\n",
    "    # removing punctuations, hashtags and @\n",
    "    NoPuncEmoStopData = []\n",
    "    prefix = ['@', '#']\n",
    "    unnecessary = ['amp', 'url']\n",
    "    for i in range(0, len(NoEmoStopData)):\n",
    "        temp = []\n",
    "        for word in NoEmoStopData[i]:\n",
    "            for sep in string.punctuation:\n",
    "                if sep not in prefix:\n",
    "                    word = word.replace(sep, ' ')  # removing all punctuations other than @ or #\n",
    "\n",
    "            if word != '':\n",
    "                words = word.split()\n",
    "                for w in words:\n",
    "                    if w[0] not in prefix:  \n",
    "                        if w not in unnecessary:  \n",
    "                            temp.append(w.strip())\n",
    "\n",
    "        NoPuncEmoStopData.append(temp)\n",
    "    return NoPuncEmoStopData"
   ]
  },
  {
   "cell_type": "code",
   "execution_count": 7,
   "metadata": {},
   "outputs": [],
   "source": [
    "def Digits(NoPuncEmoStopData):\n",
    "    # removing digits\n",
    "    NoDigitPuncEmoStopData = []\n",
    "    for i in range(len(NoPuncEmoStopData)):\n",
    "        temp = []\n",
    "        for word in NoPuncEmoStopData[i]:\n",
    "            if not word.isdigit():\n",
    "                temp.append(word)\n",
    "        NoDigitPuncEmoStopData.append(temp)\n",
    "    return NoDigitPuncEmoStopData"
   ]
  },
  {
   "cell_type": "code",
   "execution_count": 14,
   "metadata": {},
   "outputs": [],
   "source": [
    "def Lemmatization(Data, NoDigitPuncEmoStopData):\n",
    "    # lemmatization\n",
    "    FinalData = []\n",
    "    i = 0\n",
    "\n",
    "    for sentence in NoDigitPuncEmoStopData:\n",
    "        newSentence = \" \".join(sentence)\n",
    "        lem = \" \"\n",
    "        try:\n",
    "            lem = \" \".join([lemma(word) for word in newSentence.split()])\n",
    "        except StopIteration:\n",
    "            print(\"Error Happened\")\n",
    "        FinalData.append([lem, Data[i][2]])\n",
    "        i += 1\n",
    "    return FinalData"
   ]
  },
  {
   "cell_type": "code",
   "execution_count": 15,
   "metadata": {},
   "outputs": [],
   "source": [
    "def TrainModel():\n",
    "    global labels\n",
    "    Data = TextPreprocessing()\n",
    "    NoStopData = Stop(Data)\n",
    "    NoEmoStopData = Emojis(NoStopData)\n",
    "    NoPuncEmoStopData = ETC(NoEmoStopData)\n",
    "    NoDigitPuncEmoStopData = Digits(NoPuncEmoStopData)\n",
    "    data = Lemmatization(Data, NoDigitPuncEmoStopData)\n",
    "\n",
    "    labels = labels[1:3]\n",
    "    x = []\n",
    "    y = []\n",
    "    for i in range(0, len(data)):\n",
    "        x.append(data[i][0])\n",
    "        y.append(data[i][1])\n",
    "\n",
    "    Train_X, Test_X, Train_Y, Test_Y = model_selection.train_test_split(x, y, test_size=0.25)\n",
    "\n",
    "    Encoder = LabelEncoder()\n",
    "    Train_Y = Encoder.fit_transform(Train_Y)\n",
    "    Test_Y = Encoder.fit_transform(Test_Y)\n",
    "\n",
    "    Tf_idfModel = TfidfVectorizer()\n",
    "    Tf_idfModel.fit(x)\n",
    "    Tfidf_Train_X = Tf_idfModel.transform(Train_X)\n",
    "    Tfidf_Test_X = Tf_idfModel.transform(Test_X)\n",
    "    return Tfidf_Train_X, Train_Y, Tfidf_Test_X, Test_Y, Tf_idfModel"
   ]
  },
  {
   "cell_type": "code",
   "execution_count": 19,
   "metadata": {},
   "outputs": [],
   "source": [
    "def Naive(Tfidf_Train_X, Train_Y, Tfidf_Test_X, Test_Y):\n",
    "    start = timeit.default_timer()\n",
    "    NaiveModel = naive_bayes.MultinomialNB()\n",
    "    NaiveModel.fit(Tfidf_Train_X, Train_Y)\n",
    "    NaiveScore = NaiveModel.predict(Tfidf_Test_X)\n",
    "\n",
    "    stop = timeit.default_timer()\n",
    "    execution_time = stop - start\n",
    "\n",
    "    print(\"Accuracy Score :\", accuracy_score(NaiveScore, Test_Y)*100)\n",
    "    print(\"Time required :\", execution_time, \"seconds\")"
   ]
  },
  {
   "cell_type": "code",
   "execution_count": 22,
   "metadata": {},
   "outputs": [],
   "source": [
    "TfidfTrainX, TrainY, TfidfTestX, TestY, Tf_idf = TrainModel()"
   ]
  },
  {
   "cell_type": "code",
   "execution_count": 23,
   "metadata": {},
   "outputs": [
    {
     "name": "stdout",
     "output_type": "stream",
     "text": [
      "Accuracy Score : 71.54078549848943\n",
      "Time required : 0.008760700000010502 seconds\n"
     ]
    }
   ],
   "source": [
    "Naive(TfidfTrainX, TrainY, TfidfTestX, TestY)"
   ]
  }
 ],
 "metadata": {
  "interpreter": {
   "hash": "63fd5069d213b44bf678585dea6b12cceca9941eaf7f819626cde1f2670de90d"
  },
  "kernelspec": {
   "display_name": "Python 3.9.6 64-bit",
   "name": "python3"
  },
  "language_info": {
   "codemirror_mode": {
    "name": "ipython",
    "version": 3
   },
   "file_extension": ".py",
   "mimetype": "text/x-python",
   "name": "python",
   "nbconvert_exporter": "python",
   "pygments_lexer": "ipython3",
   "version": "3.9.6"
  },
  "orig_nbformat": 4
 },
 "nbformat": 4,
 "nbformat_minor": 2
}
